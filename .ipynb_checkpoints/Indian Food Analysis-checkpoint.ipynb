{
 "cells": [
  {
   "cell_type": "code",
   "execution_count": 1,
   "id": "b52d5773",
   "metadata": {},
   "outputs": [],
   "source": [
    "import numpy as np\n",
    "import pandas as pd\n",
    "import matplotlib.pyplot as plt\n",
    "import seaborn as sns\n",
    "import plotly.express as px"
   ]
  },
  {
   "cell_type": "code",
   "execution_count": 2,
   "id": "579c8c98",
   "metadata": {},
   "outputs": [
    {
     "data": {
      "text/html": [
       "<div>\n",
       "<style scoped>\n",
       "    .dataframe tbody tr th:only-of-type {\n",
       "        vertical-align: middle;\n",
       "    }\n",
       "\n",
       "    .dataframe tbody tr th {\n",
       "        vertical-align: top;\n",
       "    }\n",
       "\n",
       "    .dataframe thead th {\n",
       "        text-align: right;\n",
       "    }\n",
       "</style>\n",
       "<table border=\"1\" class=\"dataframe\">\n",
       "  <thead>\n",
       "    <tr style=\"text-align: right;\">\n",
       "      <th></th>\n",
       "      <th>name</th>\n",
       "      <th>ingredients</th>\n",
       "      <th>diet</th>\n",
       "      <th>prep_time</th>\n",
       "      <th>cook_time</th>\n",
       "      <th>flavor_profile</th>\n",
       "      <th>course</th>\n",
       "      <th>state</th>\n",
       "      <th>region</th>\n",
       "    </tr>\n",
       "  </thead>\n",
       "  <tbody>\n",
       "    <tr>\n",
       "      <th>0</th>\n",
       "      <td>Balu shahi</td>\n",
       "      <td>Maida flour, yogurt, oil, sugar</td>\n",
       "      <td>vegetarian</td>\n",
       "      <td>45</td>\n",
       "      <td>25</td>\n",
       "      <td>sweet</td>\n",
       "      <td>dessert</td>\n",
       "      <td>West Bengal</td>\n",
       "      <td>East</td>\n",
       "    </tr>\n",
       "    <tr>\n",
       "      <th>1</th>\n",
       "      <td>Boondi</td>\n",
       "      <td>Gram flour, ghee, sugar</td>\n",
       "      <td>vegetarian</td>\n",
       "      <td>80</td>\n",
       "      <td>30</td>\n",
       "      <td>sweet</td>\n",
       "      <td>dessert</td>\n",
       "      <td>Rajasthan</td>\n",
       "      <td>West</td>\n",
       "    </tr>\n",
       "    <tr>\n",
       "      <th>2</th>\n",
       "      <td>Gajar ka halwa</td>\n",
       "      <td>Carrots, milk, sugar, ghee, cashews, raisins</td>\n",
       "      <td>vegetarian</td>\n",
       "      <td>15</td>\n",
       "      <td>60</td>\n",
       "      <td>sweet</td>\n",
       "      <td>dessert</td>\n",
       "      <td>Punjab</td>\n",
       "      <td>North</td>\n",
       "    </tr>\n",
       "  </tbody>\n",
       "</table>\n",
       "</div>"
      ],
      "text/plain": [
       "             name                                   ingredients        diet  \\\n",
       "0      Balu shahi               Maida flour, yogurt, oil, sugar  vegetarian   \n",
       "1          Boondi                       Gram flour, ghee, sugar  vegetarian   \n",
       "2  Gajar ka halwa  Carrots, milk, sugar, ghee, cashews, raisins  vegetarian   \n",
       "\n",
       "   prep_time  cook_time flavor_profile   course        state region  \n",
       "0         45         25          sweet  dessert  West Bengal   East  \n",
       "1         80         30          sweet  dessert    Rajasthan   West  \n",
       "2         15         60          sweet  dessert       Punjab  North  "
      ]
     },
     "execution_count": 2,
     "metadata": {},
     "output_type": "execute_result"
    }
   ],
   "source": [
    "food_df = pd.read_csv('indian_food.csv')\n",
    "food_df.head(3)"
   ]
  },
  {
   "cell_type": "code",
   "execution_count": 3,
   "id": "47be9d81",
   "metadata": {},
   "outputs": [
    {
     "data": {
      "text/plain": [
       "(255, 9)"
      ]
     },
     "execution_count": 3,
     "metadata": {},
     "output_type": "execute_result"
    }
   ],
   "source": [
    "food_df.shape"
   ]
  },
  {
   "cell_type": "code",
   "execution_count": 4,
   "id": "a6730cf5",
   "metadata": {},
   "outputs": [
    {
     "name": "stdout",
     "output_type": "stream",
     "text": [
      "<class 'pandas.core.frame.DataFrame'>\n",
      "RangeIndex: 255 entries, 0 to 254\n",
      "Data columns (total 9 columns):\n",
      " #   Column          Non-Null Count  Dtype \n",
      "---  ------          --------------  ----- \n",
      " 0   name            255 non-null    object\n",
      " 1   ingredients     255 non-null    object\n",
      " 2   diet            255 non-null    object\n",
      " 3   prep_time       255 non-null    int64 \n",
      " 4   cook_time       255 non-null    int64 \n",
      " 5   flavor_profile  255 non-null    object\n",
      " 6   course          255 non-null    object\n",
      " 7   state           255 non-null    object\n",
      " 8   region          254 non-null    object\n",
      "dtypes: int64(2), object(7)\n",
      "memory usage: 18.1+ KB\n"
     ]
    }
   ],
   "source": [
    "food_df.info()"
   ]
  },
  {
   "cell_type": "code",
   "execution_count": 5,
   "id": "5445ec07",
   "metadata": {
    "scrolled": true
   },
   "outputs": [
    {
     "data": {
      "text/plain": [
       "name              0\n",
       "ingredients       0\n",
       "diet              0\n",
       "prep_time         0\n",
       "cook_time         0\n",
       "flavor_profile    0\n",
       "course            0\n",
       "state             0\n",
       "region            1\n",
       "dtype: int64"
      ]
     },
     "execution_count": 5,
     "metadata": {},
     "output_type": "execute_result"
    }
   ],
   "source": [
    "food_df.isnull().sum()"
   ]
  },
  {
   "cell_type": "code",
   "execution_count": 8,
   "id": "fdabc920",
   "metadata": {},
   "outputs": [],
   "source": [
    "food_df[food_df['region'].isnull()]\n",
    "food_df['region'] = food_df['region'].fillna('Unknown')"
   ]
  },
  {
   "cell_type": "code",
   "execution_count": 12,
   "id": "edc18eab",
   "metadata": {},
   "outputs": [
    {
     "data": {
      "text/html": [
       "<div>\n",
       "<style scoped>\n",
       "    .dataframe tbody tr th:only-of-type {\n",
       "        vertical-align: middle;\n",
       "    }\n",
       "\n",
       "    .dataframe tbody tr th {\n",
       "        vertical-align: top;\n",
       "    }\n",
       "\n",
       "    .dataframe thead th {\n",
       "        text-align: right;\n",
       "    }\n",
       "</style>\n",
       "<table border=\"1\" class=\"dataframe\">\n",
       "  <thead>\n",
       "    <tr style=\"text-align: right;\">\n",
       "      <th></th>\n",
       "      <th>name</th>\n",
       "      <th>ingredients</th>\n",
       "      <th>diet</th>\n",
       "      <th>prep_time</th>\n",
       "      <th>cook_time</th>\n",
       "      <th>flavor_profile</th>\n",
       "      <th>course</th>\n",
       "      <th>state</th>\n",
       "      <th>region</th>\n",
       "    </tr>\n",
       "  </thead>\n",
       "  <tbody>\n",
       "    <tr>\n",
       "      <th>0</th>\n",
       "      <td>False</td>\n",
       "      <td>False</td>\n",
       "      <td>False</td>\n",
       "      <td>False</td>\n",
       "      <td>False</td>\n",
       "      <td>False</td>\n",
       "      <td>False</td>\n",
       "      <td>False</td>\n",
       "      <td>False</td>\n",
       "    </tr>\n",
       "    <tr>\n",
       "      <th>1</th>\n",
       "      <td>False</td>\n",
       "      <td>False</td>\n",
       "      <td>False</td>\n",
       "      <td>False</td>\n",
       "      <td>False</td>\n",
       "      <td>False</td>\n",
       "      <td>False</td>\n",
       "      <td>False</td>\n",
       "      <td>False</td>\n",
       "    </tr>\n",
       "    <tr>\n",
       "      <th>2</th>\n",
       "      <td>False</td>\n",
       "      <td>False</td>\n",
       "      <td>False</td>\n",
       "      <td>False</td>\n",
       "      <td>False</td>\n",
       "      <td>False</td>\n",
       "      <td>False</td>\n",
       "      <td>False</td>\n",
       "      <td>False</td>\n",
       "    </tr>\n",
       "    <tr>\n",
       "      <th>3</th>\n",
       "      <td>False</td>\n",
       "      <td>False</td>\n",
       "      <td>False</td>\n",
       "      <td>False</td>\n",
       "      <td>False</td>\n",
       "      <td>False</td>\n",
       "      <td>False</td>\n",
       "      <td>False</td>\n",
       "      <td>False</td>\n",
       "    </tr>\n",
       "    <tr>\n",
       "      <th>4</th>\n",
       "      <td>False</td>\n",
       "      <td>False</td>\n",
       "      <td>False</td>\n",
       "      <td>False</td>\n",
       "      <td>False</td>\n",
       "      <td>False</td>\n",
       "      <td>False</td>\n",
       "      <td>False</td>\n",
       "      <td>False</td>\n",
       "    </tr>\n",
       "    <tr>\n",
       "      <th>...</th>\n",
       "      <td>...</td>\n",
       "      <td>...</td>\n",
       "      <td>...</td>\n",
       "      <td>...</td>\n",
       "      <td>...</td>\n",
       "      <td>...</td>\n",
       "      <td>...</td>\n",
       "      <td>...</td>\n",
       "      <td>...</td>\n",
       "    </tr>\n",
       "    <tr>\n",
       "      <th>250</th>\n",
       "      <td>False</td>\n",
       "      <td>False</td>\n",
       "      <td>False</td>\n",
       "      <td>False</td>\n",
       "      <td>False</td>\n",
       "      <td>False</td>\n",
       "      <td>False</td>\n",
       "      <td>False</td>\n",
       "      <td>False</td>\n",
       "    </tr>\n",
       "    <tr>\n",
       "      <th>251</th>\n",
       "      <td>False</td>\n",
       "      <td>False</td>\n",
       "      <td>False</td>\n",
       "      <td>False</td>\n",
       "      <td>False</td>\n",
       "      <td>False</td>\n",
       "      <td>False</td>\n",
       "      <td>False</td>\n",
       "      <td>False</td>\n",
       "    </tr>\n",
       "    <tr>\n",
       "      <th>252</th>\n",
       "      <td>False</td>\n",
       "      <td>False</td>\n",
       "      <td>False</td>\n",
       "      <td>False</td>\n",
       "      <td>False</td>\n",
       "      <td>False</td>\n",
       "      <td>False</td>\n",
       "      <td>False</td>\n",
       "      <td>False</td>\n",
       "    </tr>\n",
       "    <tr>\n",
       "      <th>253</th>\n",
       "      <td>False</td>\n",
       "      <td>False</td>\n",
       "      <td>False</td>\n",
       "      <td>False</td>\n",
       "      <td>False</td>\n",
       "      <td>False</td>\n",
       "      <td>False</td>\n",
       "      <td>False</td>\n",
       "      <td>False</td>\n",
       "    </tr>\n",
       "    <tr>\n",
       "      <th>254</th>\n",
       "      <td>False</td>\n",
       "      <td>False</td>\n",
       "      <td>False</td>\n",
       "      <td>False</td>\n",
       "      <td>False</td>\n",
       "      <td>False</td>\n",
       "      <td>False</td>\n",
       "      <td>False</td>\n",
       "      <td>False</td>\n",
       "    </tr>\n",
       "  </tbody>\n",
       "</table>\n",
       "<p>255 rows × 9 columns</p>\n",
       "</div>"
      ],
      "text/plain": [
       "      name  ingredients   diet  prep_time  cook_time  flavor_profile  course  \\\n",
       "0    False        False  False      False      False           False   False   \n",
       "1    False        False  False      False      False           False   False   \n",
       "2    False        False  False      False      False           False   False   \n",
       "3    False        False  False      False      False           False   False   \n",
       "4    False        False  False      False      False           False   False   \n",
       "..     ...          ...    ...        ...        ...             ...     ...   \n",
       "250  False        False  False      False      False           False   False   \n",
       "251  False        False  False      False      False           False   False   \n",
       "252  False        False  False      False      False           False   False   \n",
       "253  False        False  False      False      False           False   False   \n",
       "254  False        False  False      False      False           False   False   \n",
       "\n",
       "     state  region  \n",
       "0    False   False  \n",
       "1    False   False  \n",
       "2    False   False  \n",
       "3    False   False  \n",
       "4    False   False  \n",
       "..     ...     ...  \n",
       "250  False   False  \n",
       "251  False   False  \n",
       "252  False   False  \n",
       "253  False   False  \n",
       "254  False   False  \n",
       "\n",
       "[255 rows x 9 columns]"
      ]
     },
     "execution_count": 12,
     "metadata": {},
     "output_type": "execute_result"
    }
   ],
   "source": [
    "# food_df[food_df['region'].isin(['-1'])]\n",
    "food_df.isnull()"
   ]
  },
  {
   "cell_type": "code",
   "execution_count": 8,
   "id": "dcc431aa",
   "metadata": {},
   "outputs": [
    {
     "data": {
      "text/html": [
       "<div>\n",
       "<style scoped>\n",
       "    .dataframe tbody tr th:only-of-type {\n",
       "        vertical-align: middle;\n",
       "    }\n",
       "\n",
       "    .dataframe tbody tr th {\n",
       "        vertical-align: top;\n",
       "    }\n",
       "\n",
       "    .dataframe thead th {\n",
       "        text-align: right;\n",
       "    }\n",
       "</style>\n",
       "<table border=\"1\" class=\"dataframe\">\n",
       "  <thead>\n",
       "    <tr style=\"text-align: right;\">\n",
       "      <th></th>\n",
       "      <th>name</th>\n",
       "      <th>ingredients</th>\n",
       "      <th>diet</th>\n",
       "      <th>prep_time</th>\n",
       "      <th>cook_time</th>\n",
       "      <th>flavor_profile</th>\n",
       "      <th>course</th>\n",
       "      <th>state</th>\n",
       "      <th>region</th>\n",
       "    </tr>\n",
       "  </thead>\n",
       "  <tbody>\n",
       "    <tr>\n",
       "      <th>6</th>\n",
       "      <td>Jalebi</td>\n",
       "      <td>Maida, corn flour, baking soda, vinegar, curd,...</td>\n",
       "      <td>vegetarian</td>\n",
       "      <td>10</td>\n",
       "      <td>50</td>\n",
       "      <td>sweet</td>\n",
       "      <td>dessert</td>\n",
       "      <td>Uttar Pradesh</td>\n",
       "      <td>North</td>\n",
       "    </tr>\n",
       "    <tr>\n",
       "      <th>13</th>\n",
       "      <td>Petha</td>\n",
       "      <td>Firm white pumpkin, sugar, kitchen lime, alum ...</td>\n",
       "      <td>vegetarian</td>\n",
       "      <td>10</td>\n",
       "      <td>30</td>\n",
       "      <td>sweet</td>\n",
       "      <td>dessert</td>\n",
       "      <td>Uttar Pradesh</td>\n",
       "      <td>North</td>\n",
       "    </tr>\n",
       "    <tr>\n",
       "      <th>15</th>\n",
       "      <td>Rabri</td>\n",
       "      <td>Condensed milk, sugar, spices, nuts</td>\n",
       "      <td>vegetarian</td>\n",
       "      <td>10</td>\n",
       "      <td>45</td>\n",
       "      <td>sweet</td>\n",
       "      <td>dessert</td>\n",
       "      <td>Uttar Pradesh</td>\n",
       "      <td>North</td>\n",
       "    </tr>\n",
       "    <tr>\n",
       "      <th>18</th>\n",
       "      <td>Sohan halwa</td>\n",
       "      <td>Corn flour, ghee, dry fruits</td>\n",
       "      <td>vegetarian</td>\n",
       "      <td>10</td>\n",
       "      <td>60</td>\n",
       "      <td>sweet</td>\n",
       "      <td>dessert</td>\n",
       "      <td>Uttar Pradesh</td>\n",
       "      <td>North</td>\n",
       "    </tr>\n",
       "    <tr>\n",
       "      <th>90</th>\n",
       "      <td>Kachori</td>\n",
       "      <td>Moong dal, rava, garam masala, dough, fennel s...</td>\n",
       "      <td>vegetarian</td>\n",
       "      <td>30</td>\n",
       "      <td>60</td>\n",
       "      <td>spicy</td>\n",
       "      <td>snack</td>\n",
       "      <td>Uttar Pradesh</td>\n",
       "      <td>North</td>\n",
       "    </tr>\n",
       "    <tr>\n",
       "      <th>95</th>\n",
       "      <td>Kofta</td>\n",
       "      <td>Paneer, potato, cream, corn flour, garam masala</td>\n",
       "      <td>vegetarian</td>\n",
       "      <td>20</td>\n",
       "      <td>40</td>\n",
       "      <td>spicy</td>\n",
       "      <td>main course</td>\n",
       "      <td>Uttar Pradesh</td>\n",
       "      <td>North</td>\n",
       "    </tr>\n",
       "    <tr>\n",
       "      <th>97</th>\n",
       "      <td>Lauki ke kofte</td>\n",
       "      <td>Bottle gourd, garam masala powder, gram flour,...</td>\n",
       "      <td>vegetarian</td>\n",
       "      <td>20</td>\n",
       "      <td>40</td>\n",
       "      <td>spicy</td>\n",
       "      <td>main course</td>\n",
       "      <td>Uttar Pradesh</td>\n",
       "      <td>North</td>\n",
       "    </tr>\n",
       "    <tr>\n",
       "      <th>105</th>\n",
       "      <td>Navrattan korma</td>\n",
       "      <td>Green beans, potatoes, khus khus, low fat, gar...</td>\n",
       "      <td>vegetarian</td>\n",
       "      <td>25</td>\n",
       "      <td>40</td>\n",
       "      <td>spicy</td>\n",
       "      <td>main course</td>\n",
       "      <td>Uttar Pradesh</td>\n",
       "      <td>North</td>\n",
       "    </tr>\n",
       "    <tr>\n",
       "      <th>110</th>\n",
       "      <td>Panjeeri</td>\n",
       "      <td>Whole wheat flour, musk melon seeds, poppy see...</td>\n",
       "      <td>vegetarian</td>\n",
       "      <td>10</td>\n",
       "      <td>25</td>\n",
       "      <td>sweet</td>\n",
       "      <td>dessert</td>\n",
       "      <td>Uttar Pradesh</td>\n",
       "      <td>NaN</td>\n",
       "    </tr>\n",
       "  </tbody>\n",
       "</table>\n",
       "</div>"
      ],
      "text/plain": [
       "                name                                        ingredients  \\\n",
       "6             Jalebi  Maida, corn flour, baking soda, vinegar, curd,...   \n",
       "13             Petha  Firm white pumpkin, sugar, kitchen lime, alum ...   \n",
       "15             Rabri                Condensed milk, sugar, spices, nuts   \n",
       "18       Sohan halwa                       Corn flour, ghee, dry fruits   \n",
       "90           Kachori  Moong dal, rava, garam masala, dough, fennel s...   \n",
       "95             Kofta    Paneer, potato, cream, corn flour, garam masala   \n",
       "97    Lauki ke kofte  Bottle gourd, garam masala powder, gram flour,...   \n",
       "105  Navrattan korma  Green beans, potatoes, khus khus, low fat, gar...   \n",
       "110         Panjeeri  Whole wheat flour, musk melon seeds, poppy see...   \n",
       "\n",
       "           diet  prep_time  cook_time flavor_profile       course  \\\n",
       "6    vegetarian         10         50          sweet      dessert   \n",
       "13   vegetarian         10         30          sweet      dessert   \n",
       "15   vegetarian         10         45          sweet      dessert   \n",
       "18   vegetarian         10         60          sweet      dessert   \n",
       "90   vegetarian         30         60          spicy        snack   \n",
       "95   vegetarian         20         40          spicy  main course   \n",
       "97   vegetarian         20         40          spicy  main course   \n",
       "105  vegetarian         25         40          spicy  main course   \n",
       "110  vegetarian         10         25          sweet      dessert   \n",
       "\n",
       "             state region  \n",
       "6    Uttar Pradesh  North  \n",
       "13   Uttar Pradesh  North  \n",
       "15   Uttar Pradesh  North  \n",
       "18   Uttar Pradesh  North  \n",
       "90   Uttar Pradesh  North  \n",
       "95   Uttar Pradesh  North  \n",
       "97   Uttar Pradesh  North  \n",
       "105  Uttar Pradesh  North  \n",
       "110  Uttar Pradesh    NaN  "
      ]
     },
     "execution_count": 8,
     "metadata": {},
     "output_type": "execute_result"
    }
   ],
   "source": [
    "food_df[food_df['state'] == 'Uttar Pradesh']"
   ]
  },
  {
   "cell_type": "code",
   "execution_count": 9,
   "id": "2ae5acf1",
   "metadata": {},
   "outputs": [],
   "source": [
    "# Replacing the null value from region with North\n",
    "food_df['region'].fillna('North',inplace=True)"
   ]
  },
  {
   "cell_type": "code",
   "execution_count": 10,
   "id": "b2754956",
   "metadata": {},
   "outputs": [
    {
     "data": {
      "text/plain": [
       "name               0\n",
       "ingredients        0\n",
       "diet               0\n",
       "prep_time          0\n",
       "cook_time          0\n",
       "flavor_profile    29\n",
       "course             0\n",
       "state             24\n",
       "region            13\n",
       "dtype: int64"
      ]
     },
     "execution_count": 10,
     "metadata": {},
     "output_type": "execute_result"
    }
   ],
   "source": [
    "food_df.isin(['-1']).sum()"
   ]
  },
  {
   "cell_type": "code",
   "execution_count": 11,
   "id": "2a06ab68",
   "metadata": {},
   "outputs": [],
   "source": [
    "food_df['flavor_profile'].replace('-1','others',inplace=True)\n",
    "food_df['state'].replace('-1','Unknown',inplace=True)\n",
    "food_df['region'].replace('-1','Unknown',inplace=True)"
   ]
  },
  {
   "cell_type": "code",
   "execution_count": 12,
   "id": "e796c6fc",
   "metadata": {},
   "outputs": [
    {
     "name": "stdout",
     "output_type": "stream",
     "text": [
      "spicy     133\n",
      "sweet      88\n",
      "others     29\n",
      "bitter      4\n",
      "sour        1\n",
      "Name: flavor_profile, dtype: int64\n",
      "=========================\n",
      "main course    129\n",
      "dessert         85\n",
      "snack           39\n",
      "starter          2\n",
      "Name: course, dtype: int64\n",
      "=========================\n",
      "Gujarat            35\n",
      "Punjab             32\n",
      "Maharashtra        30\n",
      "West Bengal        24\n",
      "Unknown            24\n",
      "Assam              21\n",
      "Tamil Nadu         20\n",
      "Andhra Pradesh     10\n",
      "Uttar Pradesh       9\n",
      "Kerala              8\n",
      "Odisha              7\n",
      "Karnataka           6\n",
      "Rajasthan           6\n",
      "Telangana           5\n",
      "Bihar               3\n",
      "Goa                 3\n",
      "Manipur             2\n",
      "Jammu & Kashmir     2\n",
      "Madhya Pradesh      2\n",
      "Uttarakhand         1\n",
      "Tripura             1\n",
      "Nagaland            1\n",
      "NCT of Delhi        1\n",
      "Chhattisgarh        1\n",
      "Haryana             1\n",
      "Name: state, dtype: int64\n",
      "=========================\n",
      "West          74\n",
      "South         59\n",
      "North         50\n",
      "East          31\n",
      "North East    25\n",
      "Unknown       13\n",
      "Central        3\n",
      "Name: region, dtype: int64\n",
      "=========================\n"
     ]
    }
   ],
   "source": [
    "for i in ['flavor_profile','course','state','region']:\n",
    "    print(food_df[i].value_counts())\n",
    "    print(\"=========================\")"
   ]
  },
  {
   "cell_type": "code",
   "execution_count": 13,
   "id": "0232412d",
   "metadata": {},
   "outputs": [
    {
     "data": {
      "text/html": [
       "<div>\n",
       "<style scoped>\n",
       "    .dataframe tbody tr th:only-of-type {\n",
       "        vertical-align: middle;\n",
       "    }\n",
       "\n",
       "    .dataframe tbody tr th {\n",
       "        vertical-align: top;\n",
       "    }\n",
       "\n",
       "    .dataframe thead th {\n",
       "        text-align: right;\n",
       "    }\n",
       "</style>\n",
       "<table border=\"1\" class=\"dataframe\">\n",
       "  <thead>\n",
       "    <tr style=\"text-align: right;\">\n",
       "      <th></th>\n",
       "      <th>name</th>\n",
       "      <th>ingredients</th>\n",
       "      <th>diet</th>\n",
       "      <th>prep_time</th>\n",
       "      <th>cook_time</th>\n",
       "      <th>flavor_profile</th>\n",
       "      <th>course</th>\n",
       "      <th>state</th>\n",
       "      <th>region</th>\n",
       "      <th>total time</th>\n",
       "    </tr>\n",
       "  </thead>\n",
       "  <tbody>\n",
       "    <tr>\n",
       "      <th>0</th>\n",
       "      <td>Balu shahi</td>\n",
       "      <td>Maida flour, yogurt, oil, sugar</td>\n",
       "      <td>vegetarian</td>\n",
       "      <td>45</td>\n",
       "      <td>25</td>\n",
       "      <td>sweet</td>\n",
       "      <td>dessert</td>\n",
       "      <td>West Bengal</td>\n",
       "      <td>East</td>\n",
       "      <td>70</td>\n",
       "    </tr>\n",
       "    <tr>\n",
       "      <th>1</th>\n",
       "      <td>Boondi</td>\n",
       "      <td>Gram flour, ghee, sugar</td>\n",
       "      <td>vegetarian</td>\n",
       "      <td>80</td>\n",
       "      <td>30</td>\n",
       "      <td>sweet</td>\n",
       "      <td>dessert</td>\n",
       "      <td>Rajasthan</td>\n",
       "      <td>West</td>\n",
       "      <td>110</td>\n",
       "    </tr>\n",
       "    <tr>\n",
       "      <th>2</th>\n",
       "      <td>Gajar ka halwa</td>\n",
       "      <td>Carrots, milk, sugar, ghee, cashews, raisins</td>\n",
       "      <td>vegetarian</td>\n",
       "      <td>15</td>\n",
       "      <td>60</td>\n",
       "      <td>sweet</td>\n",
       "      <td>dessert</td>\n",
       "      <td>Punjab</td>\n",
       "      <td>North</td>\n",
       "      <td>75</td>\n",
       "    </tr>\n",
       "  </tbody>\n",
       "</table>\n",
       "</div>"
      ],
      "text/plain": [
       "             name                                   ingredients        diet  \\\n",
       "0      Balu shahi               Maida flour, yogurt, oil, sugar  vegetarian   \n",
       "1          Boondi                       Gram flour, ghee, sugar  vegetarian   \n",
       "2  Gajar ka halwa  Carrots, milk, sugar, ghee, cashews, raisins  vegetarian   \n",
       "\n",
       "   prep_time  cook_time flavor_profile   course        state region  \\\n",
       "0         45         25          sweet  dessert  West Bengal   East   \n",
       "1         80         30          sweet  dessert    Rajasthan   West   \n",
       "2         15         60          sweet  dessert       Punjab  North   \n",
       "\n",
       "   total time  \n",
       "0          70  \n",
       "1         110  \n",
       "2          75  "
      ]
     },
     "execution_count": 13,
     "metadata": {},
     "output_type": "execute_result"
    }
   ],
   "source": [
    "food_df['total time'] = food_df['prep_time'] + food_df['cook_time']\n",
    "food_df.head(3)"
   ]
  },
  {
   "cell_type": "markdown",
   "id": "10e67e98",
   "metadata": {},
   "source": [
    "region_course_df = pd.crosstab(food_df['region'],food_df['course'])"
   ]
  },
  {
   "cell_type": "code",
   "execution_count": 14,
   "id": "e638eb5c",
   "metadata": {},
   "outputs": [],
   "source": [
    "ingredients = []\n",
    "for i in range(len(food_df)):\n",
    "    ing = food_df['ingredients'][i].replace(\" \",\"\").split(\",\")\n",
    "    ingredients.append(ing)\n",
    "    \n",
    "food_df['ingredients'] = ingredients"
   ]
  },
  {
   "cell_type": "code",
   "execution_count": 15,
   "id": "3cefe549",
   "metadata": {},
   "outputs": [
    {
     "data": {
      "text/html": [
       "<div>\n",
       "<style scoped>\n",
       "    .dataframe tbody tr th:only-of-type {\n",
       "        vertical-align: middle;\n",
       "    }\n",
       "\n",
       "    .dataframe tbody tr th {\n",
       "        vertical-align: top;\n",
       "    }\n",
       "\n",
       "    .dataframe thead th {\n",
       "        text-align: right;\n",
       "    }\n",
       "</style>\n",
       "<table border=\"1\" class=\"dataframe\">\n",
       "  <thead>\n",
       "    <tr style=\"text-align: right;\">\n",
       "      <th>region</th>\n",
       "      <th>Central</th>\n",
       "      <th>East</th>\n",
       "      <th>North</th>\n",
       "      <th>North East</th>\n",
       "      <th>South</th>\n",
       "      <th>Unknown</th>\n",
       "      <th>West</th>\n",
       "    </tr>\n",
       "    <tr>\n",
       "      <th>ingredients</th>\n",
       "      <th></th>\n",
       "      <th></th>\n",
       "      <th></th>\n",
       "      <th></th>\n",
       "      <th></th>\n",
       "      <th></th>\n",
       "      <th></th>\n",
       "    </tr>\n",
       "  </thead>\n",
       "  <tbody>\n",
       "    <tr>\n",
       "      <th>Aloo</th>\n",
       "      <td>0</td>\n",
       "      <td>0</td>\n",
       "      <td>0</td>\n",
       "      <td>1</td>\n",
       "      <td>0</td>\n",
       "      <td>0</td>\n",
       "      <td>1</td>\n",
       "    </tr>\n",
       "    <tr>\n",
       "      <th>Amaranthleaves</th>\n",
       "      <td>0</td>\n",
       "      <td>0</td>\n",
       "      <td>0</td>\n",
       "      <td>0</td>\n",
       "      <td>1</td>\n",
       "      <td>0</td>\n",
       "      <td>0</td>\n",
       "    </tr>\n",
       "    <tr>\n",
       "      <th>Apricots</th>\n",
       "      <td>0</td>\n",
       "      <td>0</td>\n",
       "      <td>0</td>\n",
       "      <td>0</td>\n",
       "      <td>1</td>\n",
       "      <td>0</td>\n",
       "      <td>0</td>\n",
       "    </tr>\n",
       "    <tr>\n",
       "      <th>Arbikepatte</th>\n",
       "      <td>0</td>\n",
       "      <td>0</td>\n",
       "      <td>0</td>\n",
       "      <td>0</td>\n",
       "      <td>0</td>\n",
       "      <td>0</td>\n",
       "      <td>2</td>\n",
       "    </tr>\n",
       "    <tr>\n",
       "      <th>Arhardal</th>\n",
       "      <td>0</td>\n",
       "      <td>0</td>\n",
       "      <td>0</td>\n",
       "      <td>0</td>\n",
       "      <td>1</td>\n",
       "      <td>0</td>\n",
       "      <td>1</td>\n",
       "    </tr>\n",
       "    <tr>\n",
       "      <th>...</th>\n",
       "      <td>...</td>\n",
       "      <td>...</td>\n",
       "      <td>...</td>\n",
       "      <td>...</td>\n",
       "      <td>...</td>\n",
       "      <td>...</td>\n",
       "      <td>...</td>\n",
       "    </tr>\n",
       "    <tr>\n",
       "      <th>winevinegar</th>\n",
       "      <td>0</td>\n",
       "      <td>0</td>\n",
       "      <td>0</td>\n",
       "      <td>0</td>\n",
       "      <td>0</td>\n",
       "      <td>0</td>\n",
       "      <td>1</td>\n",
       "    </tr>\n",
       "    <tr>\n",
       "      <th>yellowmoongdaal</th>\n",
       "      <td>0</td>\n",
       "      <td>0</td>\n",
       "      <td>0</td>\n",
       "      <td>1</td>\n",
       "      <td>0</td>\n",
       "      <td>0</td>\n",
       "      <td>0</td>\n",
       "    </tr>\n",
       "    <tr>\n",
       "      <th>yellowmustard</th>\n",
       "      <td>0</td>\n",
       "      <td>0</td>\n",
       "      <td>0</td>\n",
       "      <td>0</td>\n",
       "      <td>1</td>\n",
       "      <td>0</td>\n",
       "      <td>0</td>\n",
       "    </tr>\n",
       "    <tr>\n",
       "      <th>yoghurt</th>\n",
       "      <td>0</td>\n",
       "      <td>0</td>\n",
       "      <td>0</td>\n",
       "      <td>0</td>\n",
       "      <td>0</td>\n",
       "      <td>1</td>\n",
       "      <td>0</td>\n",
       "    </tr>\n",
       "    <tr>\n",
       "      <th>yogurt</th>\n",
       "      <td>0</td>\n",
       "      <td>1</td>\n",
       "      <td>2</td>\n",
       "      <td>0</td>\n",
       "      <td>0</td>\n",
       "      <td>0</td>\n",
       "      <td>1</td>\n",
       "    </tr>\n",
       "  </tbody>\n",
       "</table>\n",
       "<p>423 rows × 7 columns</p>\n",
       "</div>"
      ],
      "text/plain": [
       "region           Central  East  North  North East  South  Unknown  West\n",
       "ingredients                                                            \n",
       "Aloo                   0     0      0           1      0        0     1\n",
       "Amaranthleaves         0     0      0           0      1        0     0\n",
       "Apricots               0     0      0           0      1        0     0\n",
       "Arbikepatte            0     0      0           0      0        0     2\n",
       "Arhardal               0     0      0           0      1        0     1\n",
       "...                  ...   ...    ...         ...    ...      ...   ...\n",
       "winevinegar            0     0      0           0      0        0     1\n",
       "yellowmoongdaal        0     0      0           1      0        0     0\n",
       "yellowmustard          0     0      0           0      1        0     0\n",
       "yoghurt                0     0      0           0      0        1     0\n",
       "yogurt                 0     1      2           0      0        0     1\n",
       "\n",
       "[423 rows x 7 columns]"
      ]
     },
     "execution_count": 15,
     "metadata": {},
     "output_type": "execute_result"
    }
   ],
   "source": [
    "ingredients_df = food_df.explode('ingredients')\n",
    "ingredients_region_df = pd.crosstab(ingredients_df['ingredients'],ingredients_df['region'])\n",
    "ingredients_region_df"
   ]
  },
  {
   "cell_type": "code",
   "execution_count": 16,
   "id": "7919e774",
   "metadata": {},
   "outputs": [
    {
     "data": {
      "text/plain": [
       "West          74\n",
       "South         59\n",
       "North         50\n",
       "East          31\n",
       "North East    25\n",
       "Unknown       13\n",
       "Central        3\n",
       "Name: region, dtype: int64"
      ]
     },
     "execution_count": 16,
     "metadata": {},
     "output_type": "execute_result"
    }
   ],
   "source": [
    "food_df['region'].value_counts()"
   ]
  },
  {
   "cell_type": "code",
   "execution_count": 17,
   "id": "37c5c0ae",
   "metadata": {},
   "outputs": [],
   "source": [
    "#Seperating all the ingredients based on region and storing it in respective list\n",
    "East = []\n",
    "West = []\n",
    "North = []\n",
    "South = []\n",
    "NorthEast = []\n",
    "Others = []\n",
    "Central = []\n",
    "for row in range(len(food_df)):\n",
    "    if food_df['region'][row] == 'East':\n",
    "        East.extend(food_df['ingredients'][row])\n",
    "    if food_df['region'][row] == 'West':\n",
    "        West.extend(food_df['ingredients'][row])\n",
    "    if food_df['region'][row] == 'North':\n",
    "        North.extend(food_df['ingredients'][row])\n",
    "    if food_df['region'][row] == 'South':\n",
    "        South.extend(food_df['ingredients'][row])\n",
    "    if food_df['region'][row] == 'North East':\n",
    "        NorthEast.extend(food_df['ingredients'][row])\n",
    "    if food_df['region'][row] == 'Unknown':\n",
    "        Others.extend(food_df['ingredients'][row])\n",
    "    if food_df['region'][row] == 'Central':\n",
    "        Central.extend(food_df['ingredients'][row])\n",
    "# Taking all the unique value from all the list\n",
    "all_ingredients = pd.Series(East+West+North+Others+NorthEast+South+Central).unique()\n",
    "#Counting the occurence of that ingredients based on region\n",
    "EastC = []\n",
    "WestC = []\n",
    "NorthC = []\n",
    "OthersC = []\n",
    "NorthEC = []\n",
    "SouthC = []\n",
    "CentralC = []\n",
    "\n",
    "# Filling the lists\n",
    "for ing in all_ingredients:\n",
    "    EastC.append(East.count(ing))\n",
    "    WestC.append(West.count(ing))\n",
    "    NorthC.append(North.count(ing))\n",
    "    OthersC.append(Others.count(ing))\n",
    "    NorthEC.append(NorthEast.count(ing))\n",
    "    SouthC.append(South.count(ing))\n",
    "    CentralC.append(Central.count(ing))"
   ]
  },
  {
   "cell_type": "code",
   "execution_count": 19,
   "id": "46b78b88",
   "metadata": {},
   "outputs": [],
   "source": [
    "ing_per_region = pd.DataFrame({'East': EastC, 'West': WestC, 'North': NorthC, 'Others': OthersC, 'North East': NorthEC,\n",
    "                               'South': SouthC, 'Central': CentralC}, index=all_ingredients)\n",
    "ing_per_region['Sum'] = (ing_per_region['East'] + ing_per_region['West'] + ing_per_region['North'] + ing_per_region['Others'] \n",
    "                        + ing_per_region['North East'] + ing_per_region['South'] + ing_per_region['Central'])"
   ]
  },
  {
   "cell_type": "code",
   "execution_count": 20,
   "id": "08d9d0d8",
   "metadata": {},
   "outputs": [],
   "source": [
    "plt.rcParams[\"figure.figsize\"] = (20,10)"
   ]
  },
  {
   "cell_type": "code",
   "execution_count": 21,
   "id": "75db3fa5",
   "metadata": {
    "scrolled": true
   },
   "outputs": [
    {
     "name": "stdout",
     "output_type": "stream",
     "text": [
      "Veg food consumption:  88.62745098039215\n",
      "Non Veg food consumption:  11.372549019607844\n"
     ]
    }
   ],
   "source": [
    "veg_count = len(food_df[food_df['diet'] == 'vegetarian'])\n",
    "non_veg_count = len(food_df[food_df['diet'] == 'non vegetarian'])\n",
    "veg_percent = veg_count/(veg_count+non_veg_count) * 100\n",
    "non_veg_percent = non_veg_count/(veg_count+non_veg_count) * 100\n",
    "print(\"Veg food consumption: \",veg_percent)\n",
    "print(\"Non Veg food consumption: \",non_veg_percent)"
   ]
  },
  {
   "cell_type": "markdown",
   "id": "ada77eb9",
   "metadata": {},
   "source": [
    "* From the given dataset we can say that around 88.62% dishes are vegetarian and 11.37% are non-vegetarian dishes.\n",
    "* Most of the people in India prefer vegetarian dishes over non-vegetarian dishes"
   ]
  },
  {
   "cell_type": "code",
   "execution_count": 22,
   "id": "078471f6",
   "metadata": {
    "scrolled": false
   },
   "outputs": [
    {
     "data": {
      "text/plain": [
       "Text(0.5, 1.0, 'Graph showing the diet pattern of people')"
      ]
     },
     "execution_count": 22,
     "metadata": {},
     "output_type": "execute_result"
    },
    {
     "data": {
      "image/png": "[encoded data removed]",
      "text/plain": [
       "<Figure size 1440x720 with 1 Axes>"
      ]
     },
     "metadata": {
      "needs_background": "light"
     },
     "output_type": "display_data"
    }
   ],
   "source": [
    "sns.countplot(data=food_df,x='diet')\n",
    "plt.xlabel('Diet')\n",
    "plt.ylabel('Count of dishes')\n",
    "plt.title(\"Graph showing the diet pattern of people\")"
   ]
  },
  {
   "cell_type": "code",
   "execution_count": 23,
   "id": "15f8976a",
   "metadata": {
    "scrolled": true
   },
   "outputs": [
    {
     "name": "stdout",
     "output_type": "stream",
     "text": [
      "West          71\n",
      "South         56\n",
      "North         45\n",
      "East          26\n",
      "Unknown       13\n",
      "North East    12\n",
      "Central        3\n",
      "Name: region, dtype: int64\n",
      "----------------------------\n",
      "North East    13\n",
      "North          5\n",
      "East           5\n",
      "South          3\n",
      "West           3\n",
      "Name: region, dtype: int64\n",
      "----------------------------\n"
     ]
    }
   ],
   "source": [
    "for i in ['vegetarian','non vegetarian']:\n",
    "    print(food_df[food_df['diet'] == i]['region'].value_counts())\n",
    "    print(\"----------------------------\")"
   ]
  },
  {
   "cell_type": "code",
   "execution_count": 24,
   "id": "0a4e7db6",
   "metadata": {},
   "outputs": [
    {
     "data": {
      "image/png": "[encoded data removed]",
      "text/plain": [
       "<Figure size 1440x720 with 1 Axes>"
      ]
     },
     "metadata": {
      "needs_background": "light"
     },
     "output_type": "display_data"
    }
   ],
   "source": [
    "sns.countplot(data=food_df,x='diet',hue='region',palette='Paired');"
   ]
  },
  {
   "cell_type": "markdown",
   "id": "7a51e7eb",
   "metadata": {},
   "source": [
    "* Most of the vegetarian dishes are from West and South.\n",
    "* Most of the non vegetarian dishes are from North East, East and North.\n",
    "* In this given dataset, very few vegetarian dishes are from Central region and no non vegetarian dishes are from Central region.Maybe the data is not provided for non vegetarian dishes from Central region."
   ]
  },
  {
   "cell_type": "code",
   "execution_count": 25,
   "id": "6564285c",
   "metadata": {},
   "outputs": [
    {
     "data": {
      "image/png": "[encoded data removed]",
      "text/plain": [
       "<Figure size 1440x720 with 1 Axes>"
      ]
     },
     "metadata": {
      "needs_background": "light"
     },
     "output_type": "display_data"
    }
   ],
   "source": [
    "sns.histplot(data=food_df,x='flavor_profile');"
   ]
  },
  {
   "cell_type": "markdown",
   "id": "fc91c4e6",
   "metadata": {},
   "source": [
    "* Most of the dishes are spicy dishes followed by sweet dishes."
   ]
  },
  {
   "cell_type": "code",
   "execution_count": 50,
   "id": "ec52a60b",
   "metadata": {},
   "outputs": [
    {
     "data": {
      "image/png": "[encoded data removed]",
      "text/plain": [
       "<Figure size 1440x720 with 1 Axes>"
      ]
     },
     "metadata": {
      "needs_background": "light"
     },
     "output_type": "display_data"
    }
   ],
   "source": [
    "sns.countplot(data=food_df,x='flavor_profile',hue='region');\n",
    "plt.title(\"Flavor distribution in different regions\");"
   ]
  },
  {
   "cell_type": "markdown",
   "id": "91611d4e",
   "metadata": {},
   "source": [
    "* Most of the spicy dishes are from West, North and South region.\n",
    "* Most of the sweet dishes are from East, West and South region.\n",
    "* From given dataset,very few dishes on bitter and sour taste are given.Those dishes are from West and North."
   ]
  },
  {
   "cell_type": "code",
   "execution_count": 29,
   "id": "18470e82",
   "metadata": {},
   "outputs": [
    {
     "data": {
      "image/png": "[encoded data removed]",
      "text/plain": [
       "<Figure size 1440x720 with 8 Axes>"
      ]
     },
     "metadata": {
      "needs_background": "light"
     },
     "output_type": "display_data"
    }
   ],
   "source": [
    "for i,region in enumerate(ing_per_region):\n",
    "    plt.subplot(4,2,i+1)\n",
    "    sns.barplot(y=ing_per_region[region].sort_values(ascending=False).index[0:10],x=ing_per_region[region].sort_values(ascending=False).values[0:10])\n",
    "    plt.xlabel(\"Count\")\n",
    "    plt.title('{} region'.format(region))\n",
    "plt.tight_layout()"
   ]
  },
  {
   "cell_type": "markdown",
   "id": "bff3187b",
   "metadata": {},
   "source": [
    "* From the above chart, we can say that there are many different ingredients used in indian food but the most used ingredient is sugar,ghee, garam masala,ginger,jaggery etc\n",
    "* Sugar is used mostly in west, east and south regions."
   ]
  },
  {
   "cell_type": "code",
   "execution_count": 48,
   "id": "bd8422c1",
   "metadata": {},
   "outputs": [
    {
     "data": {
      "image/png": "[encoded data removed]",
      "text/plain": [
       "<Figure size 1440x720 with 8 Axes>"
      ]
     },
     "metadata": {
      "needs_background": "light"
     },
     "output_type": "display_data"
    }
   ],
   "source": [
    "for i,region in enumerate(ing_per_region):\n",
    "    if region == 'Others':\n",
    "        plt.subplot(4,2,i+1)\n",
    "        sns.histplot(data=food_df[food_df['region'] == 'Unknown']['course'])\n",
    "        plt.title('{} course distribution'.format(region)) \n",
    "    else:\n",
    "        plt.subplot(4,2,i+1)\n",
    "        sns.histplot(data=food_df[food_df['region'] == region]['course'])\n",
    "        plt.title('{} course distribution'.format(region))\n",
    "plt.tight_layout()"
   ]
  },
  {
   "cell_type": "code",
   "execution_count": 51,
   "id": "d69c2ca5",
   "metadata": {},
   "outputs": [
    {
     "data": {
      "text/html": [
       "<div>\n",
       "<style scoped>\n",
       "    .dataframe tbody tr th:only-of-type {\n",
       "        vertical-align: middle;\n",
       "    }\n",
       "\n",
       "    .dataframe tbody tr th {\n",
       "        vertical-align: top;\n",
       "    }\n",
       "\n",
       "    .dataframe thead th {\n",
       "        text-align: right;\n",
       "    }\n",
       "</style>\n",
       "<table border=\"1\" class=\"dataframe\">\n",
       "  <thead>\n",
       "    <tr style=\"text-align: right;\">\n",
       "      <th></th>\n",
       "      <th>prep_time</th>\n",
       "      <th>cook_time</th>\n",
       "      <th>total time</th>\n",
       "    </tr>\n",
       "    <tr>\n",
       "      <th>course</th>\n",
       "      <th></th>\n",
       "      <th></th>\n",
       "      <th></th>\n",
       "    </tr>\n",
       "  </thead>\n",
       "  <tbody>\n",
       "    <tr>\n",
       "      <th>dessert</th>\n",
       "      <td>27.047059</td>\n",
       "      <td>43.929412</td>\n",
       "      <td>70.976471</td>\n",
       "    </tr>\n",
       "    <tr>\n",
       "      <th>main course</th>\n",
       "      <td>25.162791</td>\n",
       "      <td>29.930233</td>\n",
       "      <td>55.093023</td>\n",
       "    </tr>\n",
       "    <tr>\n",
       "      <th>snack</th>\n",
       "      <td>51.974359</td>\n",
       "      <td>29.102564</td>\n",
       "      <td>81.076923</td>\n",
       "    </tr>\n",
       "    <tr>\n",
       "      <th>starter</th>\n",
       "      <td>180.000000</td>\n",
       "      <td>37.500000</td>\n",
       "      <td>217.500000</td>\n",
       "    </tr>\n",
       "  </tbody>\n",
       "</table>\n",
       "</div>"
      ],
      "text/plain": [
       "              prep_time  cook_time  total time\n",
       "course                                        \n",
       "dessert       27.047059  43.929412   70.976471\n",
       "main course   25.162791  29.930233   55.093023\n",
       "snack         51.974359  29.102564   81.076923\n",
       "starter      180.000000  37.500000  217.500000"
      ]
     },
     "execution_count": 51,
     "metadata": {},
     "output_type": "execute_result"
    }
   ],
   "source": [
    "food_df.groupby('course').mean()"
   ]
  },
  {
   "cell_type": "code",
   "execution_count": 56,
   "id": "4102f9af",
   "metadata": {},
   "outputs": [
    {
     "data": {
      "text/plain": [
       "<AxesSubplot:xlabel='name', ylabel='total time'>"
      ]
     },
     "execution_count": 56,
     "metadata": {},
     "output_type": "execute_result"
    },
    {
     "data": {
      "image/png": "[encoded data removed]",
      "text/plain": [
       "<Figure size 1440x720 with 1 Axes>"
      ]
     },
     "metadata": {
      "needs_background": "light"
     },
     "output_type": "display_data"
    }
   ],
   "source": [
    "sns.barplot(data=food_df[food_df['course'] == 'snack'],x='name',y='total time')"
   ]
  },
  {
   "cell_type": "code",
   "execution_count": null,
   "id": "2945dc3f",
   "metadata": {},
   "outputs": [],
   "source": []
  }
 ],
 "metadata": {
  "kernelspec": {
   "display_name": "Python 3",
   "language": "python",
   "name": "python3"
  },
  "language_info": {
   "codemirror_mode": {
    "name": "ipython",
    "version": 3
   },
   "file_extension": ".py",
   "mimetype": "text/x-python",
   "name": "python",
   "nbconvert_exporter": "python",
   "pygments_lexer": "ipython3",
   "version": "3.8.8"
  }
 },
 "nbformat": 4,
 "nbformat_minor": 5
}
